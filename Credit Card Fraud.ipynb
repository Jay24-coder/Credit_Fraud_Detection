{
 "cells": [
  {
   "cell_type": "code",
   "execution_count": 1,
   "id": "15a0a8d3",
   "metadata": {},
   "outputs": [],
   "source": [
    "import pandas as pd"
   ]
  },
  {
   "cell_type": "code",
   "execution_count": 5,
   "id": "764e8112",
   "metadata": {},
   "outputs": [],
   "source": [
    "df= pd.read_csv('creditcard.csv.crdownload')"
   ]
  },
  {
   "cell_type": "code",
   "execution_count": 3,
   "id": "949fabea",
   "metadata": {},
   "outputs": [
    {
     "data": {
      "text/html": [
       "<div>\n",
       "<style scoped>\n",
       "    .dataframe tbody tr th:only-of-type {\n",
       "        vertical-align: middle;\n",
       "    }\n",
       "\n",
       "    .dataframe tbody tr th {\n",
       "        vertical-align: top;\n",
       "    }\n",
       "\n",
       "    .dataframe thead th {\n",
       "        text-align: right;\n",
       "    }\n",
       "</style>\n",
       "<table border=\"1\" class=\"dataframe\">\n",
       "  <thead>\n",
       "    <tr style=\"text-align: right;\">\n",
       "      <th></th>\n",
       "      <th>Time</th>\n",
       "      <th>V1</th>\n",
       "      <th>V2</th>\n",
       "      <th>V3</th>\n",
       "      <th>V4</th>\n",
       "      <th>V5</th>\n",
       "      <th>V6</th>\n",
       "      <th>V7</th>\n",
       "      <th>V8</th>\n",
       "      <th>V9</th>\n",
       "      <th>...</th>\n",
       "      <th>V21</th>\n",
       "      <th>V22</th>\n",
       "      <th>V23</th>\n",
       "      <th>V24</th>\n",
       "      <th>V25</th>\n",
       "      <th>V26</th>\n",
       "      <th>V27</th>\n",
       "      <th>V28</th>\n",
       "      <th>Amount</th>\n",
       "      <th>Class</th>\n",
       "    </tr>\n",
       "  </thead>\n",
       "  <tbody>\n",
       "    <tr>\n",
       "      <th>0</th>\n",
       "      <td>0</td>\n",
       "      <td>-1.359807</td>\n",
       "      <td>-0.072781</td>\n",
       "      <td>2.536347</td>\n",
       "      <td>1.378155</td>\n",
       "      <td>-0.338321</td>\n",
       "      <td>0.462388</td>\n",
       "      <td>0.239599</td>\n",
       "      <td>0.098698</td>\n",
       "      <td>0.363787</td>\n",
       "      <td>...</td>\n",
       "      <td>-0.018307</td>\n",
       "      <td>0.277838</td>\n",
       "      <td>-0.110474</td>\n",
       "      <td>0.066928</td>\n",
       "      <td>0.128539</td>\n",
       "      <td>-0.189115</td>\n",
       "      <td>0.133558</td>\n",
       "      <td>-0.021053</td>\n",
       "      <td>149.62</td>\n",
       "      <td>0.0</td>\n",
       "    </tr>\n",
       "    <tr>\n",
       "      <th>1</th>\n",
       "      <td>0</td>\n",
       "      <td>1.191857</td>\n",
       "      <td>0.266151</td>\n",
       "      <td>0.166480</td>\n",
       "      <td>0.448154</td>\n",
       "      <td>0.060018</td>\n",
       "      <td>-0.082361</td>\n",
       "      <td>-0.078803</td>\n",
       "      <td>0.085102</td>\n",
       "      <td>-0.255425</td>\n",
       "      <td>...</td>\n",
       "      <td>-0.225775</td>\n",
       "      <td>-0.638672</td>\n",
       "      <td>0.101288</td>\n",
       "      <td>-0.339846</td>\n",
       "      <td>0.167170</td>\n",
       "      <td>0.125895</td>\n",
       "      <td>-0.008983</td>\n",
       "      <td>0.014724</td>\n",
       "      <td>2.69</td>\n",
       "      <td>0.0</td>\n",
       "    </tr>\n",
       "    <tr>\n",
       "      <th>2</th>\n",
       "      <td>1</td>\n",
       "      <td>-1.358354</td>\n",
       "      <td>-1.340163</td>\n",
       "      <td>1.773209</td>\n",
       "      <td>0.379780</td>\n",
       "      <td>-0.503198</td>\n",
       "      <td>1.800499</td>\n",
       "      <td>0.791461</td>\n",
       "      <td>0.247676</td>\n",
       "      <td>-1.514654</td>\n",
       "      <td>...</td>\n",
       "      <td>0.247998</td>\n",
       "      <td>0.771679</td>\n",
       "      <td>0.909412</td>\n",
       "      <td>-0.689281</td>\n",
       "      <td>-0.327642</td>\n",
       "      <td>-0.139097</td>\n",
       "      <td>-0.055353</td>\n",
       "      <td>-0.059752</td>\n",
       "      <td>378.66</td>\n",
       "      <td>0.0</td>\n",
       "    </tr>\n",
       "    <tr>\n",
       "      <th>3</th>\n",
       "      <td>1</td>\n",
       "      <td>-0.966272</td>\n",
       "      <td>-0.185226</td>\n",
       "      <td>1.792993</td>\n",
       "      <td>-0.863291</td>\n",
       "      <td>-0.010309</td>\n",
       "      <td>1.247203</td>\n",
       "      <td>0.237609</td>\n",
       "      <td>0.377436</td>\n",
       "      <td>-1.387024</td>\n",
       "      <td>...</td>\n",
       "      <td>-0.108300</td>\n",
       "      <td>0.005274</td>\n",
       "      <td>-0.190321</td>\n",
       "      <td>-1.175575</td>\n",
       "      <td>0.647376</td>\n",
       "      <td>-0.221929</td>\n",
       "      <td>0.062723</td>\n",
       "      <td>0.061458</td>\n",
       "      <td>123.50</td>\n",
       "      <td>0.0</td>\n",
       "    </tr>\n",
       "    <tr>\n",
       "      <th>4</th>\n",
       "      <td>2</td>\n",
       "      <td>-1.158233</td>\n",
       "      <td>0.877737</td>\n",
       "      <td>1.548718</td>\n",
       "      <td>0.403034</td>\n",
       "      <td>-0.407193</td>\n",
       "      <td>0.095921</td>\n",
       "      <td>0.592941</td>\n",
       "      <td>-0.270533</td>\n",
       "      <td>0.817739</td>\n",
       "      <td>...</td>\n",
       "      <td>-0.009431</td>\n",
       "      <td>0.798278</td>\n",
       "      <td>-0.137458</td>\n",
       "      <td>0.141267</td>\n",
       "      <td>-0.206010</td>\n",
       "      <td>0.502292</td>\n",
       "      <td>0.219422</td>\n",
       "      <td>0.215153</td>\n",
       "      <td>69.99</td>\n",
       "      <td>0.0</td>\n",
       "    </tr>\n",
       "  </tbody>\n",
       "</table>\n",
       "<p>5 rows × 31 columns</p>\n",
       "</div>"
      ],
      "text/plain": [
       "   Time        V1        V2        V3        V4        V5        V6        V7  \\\n",
       "0     0 -1.359807 -0.072781  2.536347  1.378155 -0.338321  0.462388  0.239599   \n",
       "1     0  1.191857  0.266151  0.166480  0.448154  0.060018 -0.082361 -0.078803   \n",
       "2     1 -1.358354 -1.340163  1.773209  0.379780 -0.503198  1.800499  0.791461   \n",
       "3     1 -0.966272 -0.185226  1.792993 -0.863291 -0.010309  1.247203  0.237609   \n",
       "4     2 -1.158233  0.877737  1.548718  0.403034 -0.407193  0.095921  0.592941   \n",
       "\n",
       "         V8        V9  ...       V21       V22       V23       V24       V25  \\\n",
       "0  0.098698  0.363787  ... -0.018307  0.277838 -0.110474  0.066928  0.128539   \n",
       "1  0.085102 -0.255425  ... -0.225775 -0.638672  0.101288 -0.339846  0.167170   \n",
       "2  0.247676 -1.514654  ...  0.247998  0.771679  0.909412 -0.689281 -0.327642   \n",
       "3  0.377436 -1.387024  ... -0.108300  0.005274 -0.190321 -1.175575  0.647376   \n",
       "4 -0.270533  0.817739  ... -0.009431  0.798278 -0.137458  0.141267 -0.206010   \n",
       "\n",
       "        V26       V27       V28  Amount  Class  \n",
       "0 -0.189115  0.133558 -0.021053  149.62    0.0  \n",
       "1  0.125895 -0.008983  0.014724    2.69    0.0  \n",
       "2 -0.139097 -0.055353 -0.059752  378.66    0.0  \n",
       "3 -0.221929  0.062723  0.061458  123.50    0.0  \n",
       "4  0.502292  0.219422  0.215153   69.99    0.0  \n",
       "\n",
       "[5 rows x 31 columns]"
      ]
     },
     "execution_count": 3,
     "metadata": {},
     "output_type": "execute_result"
    }
   ],
   "source": [
    "df.head()"
   ]
  },
  {
   "cell_type": "code",
   "execution_count": 8,
   "id": "7d7c6803",
   "metadata": {},
   "outputs": [
    {
     "name": "stdout",
     "output_type": "stream",
     "text": [
      "<class 'pandas.core.frame.DataFrame'>\n",
      "RangeIndex: 11665 entries, 0 to 11664\n",
      "Data columns (total 31 columns):\n",
      " #   Column  Non-Null Count  Dtype  \n",
      "---  ------  --------------  -----  \n",
      " 0   Time    11665 non-null  int64  \n",
      " 1   V1      11665 non-null  float64\n",
      " 2   V2      11665 non-null  float64\n",
      " 3   V3      11665 non-null  float64\n",
      " 4   V4      11665 non-null  float64\n",
      " 5   V5      11665 non-null  float64\n",
      " 6   V6      11665 non-null  float64\n",
      " 7   V7      11665 non-null  float64\n",
      " 8   V8      11665 non-null  float64\n",
      " 9   V9      11665 non-null  float64\n",
      " 10  V10     11665 non-null  float64\n",
      " 11  V11     11665 non-null  float64\n",
      " 12  V12     11664 non-null  float64\n",
      " 13  V13     11664 non-null  float64\n",
      " 14  V14     11664 non-null  float64\n",
      " 15  V15     11664 non-null  float64\n",
      " 16  V16     11664 non-null  float64\n",
      " 17  V17     11664 non-null  float64\n",
      " 18  V18     11664 non-null  float64\n",
      " 19  V19     11664 non-null  float64\n",
      " 20  V20     11664 non-null  float64\n",
      " 21  V21     11664 non-null  float64\n",
      " 22  V22     11664 non-null  float64\n",
      " 23  V23     11664 non-null  float64\n",
      " 24  V24     11664 non-null  float64\n",
      " 25  V25     11664 non-null  float64\n",
      " 26  V26     11664 non-null  float64\n",
      " 27  V27     11664 non-null  float64\n",
      " 28  V28     11664 non-null  float64\n",
      " 29  Amount  11664 non-null  float64\n",
      " 30  Class   11664 non-null  float64\n",
      "dtypes: float64(30), int64(1)\n",
      "memory usage: 2.8 MB\n"
     ]
    }
   ],
   "source": [
    "df.info()"
   ]
  },
  {
   "cell_type": "code",
   "execution_count": 9,
   "id": "842375c7",
   "metadata": {
    "scrolled": true
   },
   "outputs": [
    {
     "data": {
      "text/plain": [
       "Time      0\n",
       "V1        0\n",
       "V2        0\n",
       "V3        0\n",
       "V4        0\n",
       "V5        0\n",
       "V6        0\n",
       "V7        0\n",
       "V8        0\n",
       "V9        0\n",
       "V10       0\n",
       "V11       0\n",
       "V12       1\n",
       "V13       1\n",
       "V14       1\n",
       "V15       1\n",
       "V16       1\n",
       "V17       1\n",
       "V18       1\n",
       "V19       1\n",
       "V20       1\n",
       "V21       1\n",
       "V22       1\n",
       "V23       1\n",
       "V24       1\n",
       "V25       1\n",
       "V26       1\n",
       "V27       1\n",
       "V28       1\n",
       "Amount    1\n",
       "Class     1\n",
       "dtype: int64"
      ]
     },
     "execution_count": 9,
     "metadata": {},
     "output_type": "execute_result"
    }
   ],
   "source": [
    "df.isna().sum()"
   ]
  },
  {
   "cell_type": "code",
   "execution_count": 10,
   "id": "8789ce64",
   "metadata": {},
   "outputs": [
    {
     "data": {
      "text/plain": [
       "44"
      ]
     },
     "execution_count": 10,
     "metadata": {},
     "output_type": "execute_result"
    }
   ],
   "source": [
    "df.duplicated().sum()"
   ]
  },
  {
   "cell_type": "code",
   "execution_count": 11,
   "id": "15dfee9f",
   "metadata": {},
   "outputs": [],
   "source": [
    "df.drop_duplicates(inplace= True)\n",
    "df.dropna(inplace= True)"
   ]
  },
  {
   "cell_type": "code",
   "execution_count": 12,
   "id": "01ce04d0",
   "metadata": {
    "scrolled": true
   },
   "outputs": [
    {
     "data": {
      "text/plain": [
       "Time      0\n",
       "V1        0\n",
       "V2        0\n",
       "V3        0\n",
       "V4        0\n",
       "V5        0\n",
       "V6        0\n",
       "V7        0\n",
       "V8        0\n",
       "V9        0\n",
       "V10       0\n",
       "V11       0\n",
       "V12       0\n",
       "V13       0\n",
       "V14       0\n",
       "V15       0\n",
       "V16       0\n",
       "V17       0\n",
       "V18       0\n",
       "V19       0\n",
       "V20       0\n",
       "V21       0\n",
       "V22       0\n",
       "V23       0\n",
       "V24       0\n",
       "V25       0\n",
       "V26       0\n",
       "V27       0\n",
       "V28       0\n",
       "Amount    0\n",
       "Class     0\n",
       "dtype: int64"
      ]
     },
     "execution_count": 12,
     "metadata": {},
     "output_type": "execute_result"
    }
   ],
   "source": [
    "df.isna().sum()"
   ]
  },
  {
   "cell_type": "code",
   "execution_count": 13,
   "id": "36b0e424",
   "metadata": {},
   "outputs": [
    {
     "data": {
      "text/plain": [
       "0"
      ]
     },
     "execution_count": 13,
     "metadata": {},
     "output_type": "execute_result"
    }
   ],
   "source": [
    "df.duplicated().sum()"
   ]
  },
  {
   "cell_type": "code",
   "execution_count": 14,
   "id": "3fe6fb21",
   "metadata": {},
   "outputs": [
    {
     "data": {
      "text/html": [
       "<div>\n",
       "<style scoped>\n",
       "    .dataframe tbody tr th:only-of-type {\n",
       "        vertical-align: middle;\n",
       "    }\n",
       "\n",
       "    .dataframe tbody tr th {\n",
       "        vertical-align: top;\n",
       "    }\n",
       "\n",
       "    .dataframe thead th {\n",
       "        text-align: right;\n",
       "    }\n",
       "</style>\n",
       "<table border=\"1\" class=\"dataframe\">\n",
       "  <thead>\n",
       "    <tr style=\"text-align: right;\">\n",
       "      <th></th>\n",
       "      <th>Time</th>\n",
       "      <th>V1</th>\n",
       "      <th>V2</th>\n",
       "      <th>V3</th>\n",
       "      <th>V4</th>\n",
       "      <th>V5</th>\n",
       "      <th>V6</th>\n",
       "      <th>V7</th>\n",
       "      <th>V8</th>\n",
       "      <th>V9</th>\n",
       "      <th>...</th>\n",
       "      <th>V21</th>\n",
       "      <th>V22</th>\n",
       "      <th>V23</th>\n",
       "      <th>V24</th>\n",
       "      <th>V25</th>\n",
       "      <th>V26</th>\n",
       "      <th>V27</th>\n",
       "      <th>V28</th>\n",
       "      <th>Amount</th>\n",
       "      <th>Class</th>\n",
       "    </tr>\n",
       "  </thead>\n",
       "  <tbody>\n",
       "    <tr>\n",
       "      <th>count</th>\n",
       "      <td>11620.000000</td>\n",
       "      <td>11620.000000</td>\n",
       "      <td>11620.000000</td>\n",
       "      <td>11620.000000</td>\n",
       "      <td>11620.000000</td>\n",
       "      <td>11620.000000</td>\n",
       "      <td>11620.000000</td>\n",
       "      <td>11620.000000</td>\n",
       "      <td>11620.000000</td>\n",
       "      <td>11620.000000</td>\n",
       "      <td>...</td>\n",
       "      <td>11620.000000</td>\n",
       "      <td>11620.000000</td>\n",
       "      <td>11620.000000</td>\n",
       "      <td>11620.000000</td>\n",
       "      <td>11620.000000</td>\n",
       "      <td>11620.000000</td>\n",
       "      <td>11620.000000</td>\n",
       "      <td>11620.000000</td>\n",
       "      <td>11620.000000</td>\n",
       "      <td>11620.000000</td>\n",
       "    </tr>\n",
       "    <tr>\n",
       "      <th>mean</th>\n",
       "      <td>7714.292169</td>\n",
       "      <td>-0.215333</td>\n",
       "      <td>0.271474</td>\n",
       "      <td>0.899107</td>\n",
       "      <td>0.279220</td>\n",
       "      <td>-0.078783</td>\n",
       "      <td>0.137201</td>\n",
       "      <td>-0.110275</td>\n",
       "      <td>-0.050170</td>\n",
       "      <td>0.893153</td>\n",
       "      <td>...</td>\n",
       "      <td>-0.064154</td>\n",
       "      <td>-0.153637</td>\n",
       "      <td>-0.034759</td>\n",
       "      <td>0.018773</td>\n",
       "      <td>0.101622</td>\n",
       "      <td>0.071631</td>\n",
       "      <td>0.009051</td>\n",
       "      <td>0.000905</td>\n",
       "      <td>62.960616</td>\n",
       "      <td>0.004217</td>\n",
       "    </tr>\n",
       "    <tr>\n",
       "      <th>std</th>\n",
       "      <td>5964.064981</td>\n",
       "      <td>1.557422</td>\n",
       "      <td>1.303580</td>\n",
       "      <td>1.273555</td>\n",
       "      <td>1.469681</td>\n",
       "      <td>1.185496</td>\n",
       "      <td>1.305930</td>\n",
       "      <td>1.129508</td>\n",
       "      <td>1.228498</td>\n",
       "      <td>1.182148</td>\n",
       "      <td>...</td>\n",
       "      <td>0.891915</td>\n",
       "      <td>0.622941</td>\n",
       "      <td>0.508855</td>\n",
       "      <td>0.591615</td>\n",
       "      <td>0.429607</td>\n",
       "      <td>0.560547</td>\n",
       "      <td>0.398076</td>\n",
       "      <td>0.262326</td>\n",
       "      <td>180.125349</td>\n",
       "      <td>0.064803</td>\n",
       "    </tr>\n",
       "    <tr>\n",
       "      <th>min</th>\n",
       "      <td>0.000000</td>\n",
       "      <td>-27.670569</td>\n",
       "      <td>-34.607649</td>\n",
       "      <td>-21.405836</td>\n",
       "      <td>-4.657545</td>\n",
       "      <td>-32.092129</td>\n",
       "      <td>-23.496714</td>\n",
       "      <td>-26.548144</td>\n",
       "      <td>-23.632502</td>\n",
       "      <td>-7.175097</td>\n",
       "      <td>...</td>\n",
       "      <td>-11.468435</td>\n",
       "      <td>-8.555808</td>\n",
       "      <td>-19.254328</td>\n",
       "      <td>-2.512377</td>\n",
       "      <td>-4.781606</td>\n",
       "      <td>-1.338556</td>\n",
       "      <td>-7.976100</td>\n",
       "      <td>-3.575312</td>\n",
       "      <td>0.000000</td>\n",
       "      <td>0.000000</td>\n",
       "    </tr>\n",
       "    <tr>\n",
       "      <th>25%</th>\n",
       "      <td>2476.750000</td>\n",
       "      <td>-0.982768</td>\n",
       "      <td>-0.258310</td>\n",
       "      <td>0.417286</td>\n",
       "      <td>-0.618072</td>\n",
       "      <td>-0.680091</td>\n",
       "      <td>-0.623742</td>\n",
       "      <td>-0.582500</td>\n",
       "      <td>-0.186015</td>\n",
       "      <td>0.181498</td>\n",
       "      <td>...</td>\n",
       "      <td>-0.268483</td>\n",
       "      <td>-0.543751</td>\n",
       "      <td>-0.172816</td>\n",
       "      <td>-0.330576</td>\n",
       "      <td>-0.146926</td>\n",
       "      <td>-0.346630</td>\n",
       "      <td>-0.080518</td>\n",
       "      <td>-0.015513</td>\n",
       "      <td>5.000000</td>\n",
       "      <td>0.000000</td>\n",
       "    </tr>\n",
       "    <tr>\n",
       "      <th>50%</th>\n",
       "      <td>6339.500000</td>\n",
       "      <td>-0.346136</td>\n",
       "      <td>0.262178</td>\n",
       "      <td>0.951225</td>\n",
       "      <td>0.213029</td>\n",
       "      <td>-0.178827</td>\n",
       "      <td>-0.152138</td>\n",
       "      <td>-0.088246</td>\n",
       "      <td>0.011522</td>\n",
       "      <td>0.883566</td>\n",
       "      <td>...</td>\n",
       "      <td>-0.130094</td>\n",
       "      <td>-0.127972</td>\n",
       "      <td>-0.044589</td>\n",
       "      <td>0.074240</td>\n",
       "      <td>0.139341</td>\n",
       "      <td>0.010154</td>\n",
       "      <td>-0.003836</td>\n",
       "      <td>0.015395</td>\n",
       "      <td>15.950000</td>\n",
       "      <td>0.000000</td>\n",
       "    </tr>\n",
       "    <tr>\n",
       "      <th>75%</th>\n",
       "      <td>11910.500000</td>\n",
       "      <td>1.159721</td>\n",
       "      <td>0.886053</td>\n",
       "      <td>1.616689</td>\n",
       "      <td>1.152640</td>\n",
       "      <td>0.347758</td>\n",
       "      <td>0.505700</td>\n",
       "      <td>0.439539</td>\n",
       "      <td>0.265518</td>\n",
       "      <td>1.570087</td>\n",
       "      <td>...</td>\n",
       "      <td>0.022543</td>\n",
       "      <td>0.236310</td>\n",
       "      <td>0.076662</td>\n",
       "      <td>0.403087</td>\n",
       "      <td>0.375252</td>\n",
       "      <td>0.419003</td>\n",
       "      <td>0.108196</td>\n",
       "      <td>0.073861</td>\n",
       "      <td>50.000000</td>\n",
       "      <td>0.000000</td>\n",
       "    </tr>\n",
       "    <tr>\n",
       "      <th>max</th>\n",
       "      <td>19915.000000</td>\n",
       "      <td>1.960497</td>\n",
       "      <td>9.067613</td>\n",
       "      <td>4.101716</td>\n",
       "      <td>11.927512</td>\n",
       "      <td>34.099309</td>\n",
       "      <td>21.393069</td>\n",
       "      <td>34.303177</td>\n",
       "      <td>5.499963</td>\n",
       "      <td>10.392889</td>\n",
       "      <td>...</td>\n",
       "      <td>22.599543</td>\n",
       "      <td>4.534454</td>\n",
       "      <td>13.876221</td>\n",
       "      <td>3.200201</td>\n",
       "      <td>5.525093</td>\n",
       "      <td>3.517346</td>\n",
       "      <td>8.254376</td>\n",
       "      <td>4.860769</td>\n",
       "      <td>7712.430000</td>\n",
       "      <td>1.000000</td>\n",
       "    </tr>\n",
       "  </tbody>\n",
       "</table>\n",
       "<p>8 rows × 31 columns</p>\n",
       "</div>"
      ],
      "text/plain": [
       "               Time            V1            V2            V3            V4  \\\n",
       "count  11620.000000  11620.000000  11620.000000  11620.000000  11620.000000   \n",
       "mean    7714.292169     -0.215333      0.271474      0.899107      0.279220   \n",
       "std     5964.064981      1.557422      1.303580      1.273555      1.469681   \n",
       "min        0.000000    -27.670569    -34.607649    -21.405836     -4.657545   \n",
       "25%     2476.750000     -0.982768     -0.258310      0.417286     -0.618072   \n",
       "50%     6339.500000     -0.346136      0.262178      0.951225      0.213029   \n",
       "75%    11910.500000      1.159721      0.886053      1.616689      1.152640   \n",
       "max    19915.000000      1.960497      9.067613      4.101716     11.927512   \n",
       "\n",
       "                 V5            V6            V7            V8            V9  \\\n",
       "count  11620.000000  11620.000000  11620.000000  11620.000000  11620.000000   \n",
       "mean      -0.078783      0.137201     -0.110275     -0.050170      0.893153   \n",
       "std        1.185496      1.305930      1.129508      1.228498      1.182148   \n",
       "min      -32.092129    -23.496714    -26.548144    -23.632502     -7.175097   \n",
       "25%       -0.680091     -0.623742     -0.582500     -0.186015      0.181498   \n",
       "50%       -0.178827     -0.152138     -0.088246      0.011522      0.883566   \n",
       "75%        0.347758      0.505700      0.439539      0.265518      1.570087   \n",
       "max       34.099309     21.393069     34.303177      5.499963     10.392889   \n",
       "\n",
       "       ...           V21           V22           V23           V24  \\\n",
       "count  ...  11620.000000  11620.000000  11620.000000  11620.000000   \n",
       "mean   ...     -0.064154     -0.153637     -0.034759      0.018773   \n",
       "std    ...      0.891915      0.622941      0.508855      0.591615   \n",
       "min    ...    -11.468435     -8.555808    -19.254328     -2.512377   \n",
       "25%    ...     -0.268483     -0.543751     -0.172816     -0.330576   \n",
       "50%    ...     -0.130094     -0.127972     -0.044589      0.074240   \n",
       "75%    ...      0.022543      0.236310      0.076662      0.403087   \n",
       "max    ...     22.599543      4.534454     13.876221      3.200201   \n",
       "\n",
       "                V25           V26           V27           V28        Amount  \\\n",
       "count  11620.000000  11620.000000  11620.000000  11620.000000  11620.000000   \n",
       "mean       0.101622      0.071631      0.009051      0.000905     62.960616   \n",
       "std        0.429607      0.560547      0.398076      0.262326    180.125349   \n",
       "min       -4.781606     -1.338556     -7.976100     -3.575312      0.000000   \n",
       "25%       -0.146926     -0.346630     -0.080518     -0.015513      5.000000   \n",
       "50%        0.139341      0.010154     -0.003836      0.015395     15.950000   \n",
       "75%        0.375252      0.419003      0.108196      0.073861     50.000000   \n",
       "max        5.525093      3.517346      8.254376      4.860769   7712.430000   \n",
       "\n",
       "              Class  \n",
       "count  11620.000000  \n",
       "mean       0.004217  \n",
       "std        0.064803  \n",
       "min        0.000000  \n",
       "25%        0.000000  \n",
       "50%        0.000000  \n",
       "75%        0.000000  \n",
       "max        1.000000  \n",
       "\n",
       "[8 rows x 31 columns]"
      ]
     },
     "execution_count": 14,
     "metadata": {},
     "output_type": "execute_result"
    }
   ],
   "source": [
    "df.describe()"
   ]
  },
  {
   "cell_type": "code",
   "execution_count": 17,
   "id": "bb8b28e4",
   "metadata": {},
   "outputs": [],
   "source": [
    "non_fraud= len(df[df['Class']==0])\n",
    "fraud= len(df[df['Class']==1])\n",
    "fraud_perc= (fraud/(fraud+non_fraud))*100"
   ]
  },
  {
   "cell_type": "code",
   "execution_count": 18,
   "id": "8bde535a",
   "metadata": {},
   "outputs": [
    {
     "name": "stdout",
     "output_type": "stream",
     "text": [
      "Number of Genuine Transaction: 11571\n",
      "Number of Fraud Transaction: 49\n",
      "Percantage of Fraud: 0.42168674698795183\n"
     ]
    }
   ],
   "source": [
    "print(f'Number of Genuine Transaction: {non_fraud}')\n",
    "print(f'Number of Fraud Transaction: {fraud}')\n",
    "print(f'Percantage of Fraud: {fraud_perc}')"
   ]
  },
  {
   "cell_type": "code",
   "execution_count": 19,
   "id": "ec68b1b8",
   "metadata": {},
   "outputs": [],
   "source": [
    "import seaborn as sns, matplotlib.pyplot as plt, numpy as np"
   ]
  },
  {
   "cell_type": "code",
   "execution_count": 22,
   "id": "8126fde1",
   "metadata": {},
   "outputs": [
    {
     "data": {
      "text/plain": [
       "([<matplotlib.axis.XTick at 0x1b7fec28990>,\n",
       "  <matplotlib.axis.XTick at 0x1b7fc2a6dd0>],\n",
       " [Text(0, 0, 'Genuine'), Text(1, 0, 'Fraud')])"
      ]
     },
     "execution_count": 22,
     "metadata": {},
     "output_type": "execute_result"
    },
    {
     "data": {
      "image/png": "[encoded data removed]",
      "text/plain": [
       "<Figure size 640x480 with 1 Axes>"
      ]
     },
     "metadata": {},
     "output_type": "display_data"
    }
   ],
   "source": [
    "sns.countplot(x= df['Class'])\n",
    "plt.xticks(range(2), ['Genuine', 'Fraud'])"
   ]
  },
  {
   "cell_type": "code",
   "execution_count": 39,
   "id": "292de95b",
   "metadata": {},
   "outputs": [
    {
     "data": {
      "text/plain": [
       "array([[149.62,   2.69, 378.66, ...,   5.  ,  10.  ,  10.  ]])"
      ]
     },
     "execution_count": 39,
     "metadata": {},
     "output_type": "execute_result"
    }
   ],
   "source": [
    "df['Amount'].values.reshape(1,-1)"
   ]
  },
  {
   "cell_type": "code",
   "execution_count": 47,
   "id": "5e1fa036",
   "metadata": {},
   "outputs": [],
   "source": [
    "from sklearn.preprocessing import StandardScaler\n",
    "sc= StandardScaler()\n",
    "df['Normalized_amount']= sc.fit_transform(df['Amount'].values.reshape(-1,1))\n",
    "df.drop(['Amount', 'Time'], axis= 1, inplace= True)\n",
    "x= df.drop('Class', axis= 1)\n",
    "y= df['Class']"
   ]
  },
  {
   "cell_type": "code",
   "execution_count": 50,
   "id": "e60e07a6",
   "metadata": {},
   "outputs": [
    {
     "name": "stdout",
     "output_type": "stream",
     "text": [
      "(8134, 29)\n",
      "(8134,)\n",
      "(3486, 29)\n",
      "(3486,)\n"
     ]
    }
   ],
   "source": [
    "from sklearn.model_selection import train_test_split\n",
    "x_train, x_test, y_train, y_test= train_test_split(x,y,test_size= 0.3, random_state= 6)\n",
    "print(x_train.shape)\n",
    "print(y_train.shape)\n",
    "print(x_test.shape)\n",
    "print(y_test.shape)"
   ]
  },
  {
   "cell_type": "code",
   "execution_count": 52,
   "id": "5d1b78bd",
   "metadata": {},
   "outputs": [
    {
     "name": "stdout",
     "output_type": "stream",
     "text": [
      "0.9971313826735514\n"
     ]
    }
   ],
   "source": [
    "from sklearn.tree import DecisionTreeClassifier\n",
    "dt= DecisionTreeClassifier()\n",
    "dt.fit(x_train, y_train)\n",
    "y_pred= dt.predict(x_test)\n",
    "from sklearn.metrics import accuracy_score\n",
    "print(accuracy_score(y_test, y_pred))"
   ]
  },
  {
   "cell_type": "code",
   "execution_count": 54,
   "id": "a90eddcd",
   "metadata": {},
   "outputs": [
    {
     "name": "stdout",
     "output_type": "stream",
     "text": [
      "0.9997131382673551\n"
     ]
    }
   ],
   "source": [
    "from sklearn.ensemble import RandomForestClassifier\n",
    "rf= RandomForestClassifier()\n",
    "rf.fit(x_train, y_train)\n",
    "y_pred= rf.predict(x_test)\n",
    "print(accuracy_score(y_test, y_pred))"
   ]
  },
  {
   "cell_type": "code",
   "execution_count": 56,
   "id": "32adca70",
   "metadata": {},
   "outputs": [
    {
     "data": {
      "text/plain": [
       "array([[3475,    1],\n",
       "       [   0,   10]], dtype=int64)"
      ]
     },
     "execution_count": 56,
     "metadata": {},
     "output_type": "execute_result"
    }
   ],
   "source": [
    "from sklearn.metrics import *\n",
    "confusion_matrix(y_test, y_pred)"
   ]
  },
  {
   "cell_type": "code",
   "execution_count": 57,
   "id": "e3964985",
   "metadata": {},
   "outputs": [
    {
     "name": "stdout",
     "output_type": "stream",
     "text": [
      "              precision    recall  f1-score   support\n",
      "\n",
      "         0.0       1.00      1.00      1.00      3476\n",
      "         1.0       0.91      1.00      0.95        10\n",
      "\n",
      "    accuracy                           1.00      3486\n",
      "   macro avg       0.95      1.00      0.98      3486\n",
      "weighted avg       1.00      1.00      1.00      3486\n",
      "\n"
     ]
    }
   ],
   "source": [
    "from sklearn.metrics import classification_report\n",
    "print(classification_report(y_test, y_pred))"
   ]
  },
  {
   "cell_type": "code",
   "execution_count": null,
   "id": "274672e4",
   "metadata": {},
   "outputs": [],
   "source": []
  }
 ],
 "metadata": {
  "kernelspec": {
   "display_name": "Python 3 (ipykernel)",
   "language": "python",
   "name": "python3"
  },
  "language_info": {
   "codemirror_mode": {
    "name": "ipython",
    "version": 3
   },
   "file_extension": ".py",
   "mimetype": "text/x-python",
   "name": "python",
   "nbconvert_exporter": "python",
   "pygments_lexer": "ipython3",
   "version": "3.11.3"
  }
 },
 "nbformat": 4,
 "nbformat_minor": 5
}
